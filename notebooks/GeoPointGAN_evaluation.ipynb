{
  "nbformat": 4,
  "nbformat_minor": 0,
  "metadata": {
    "colab": {
      "name": "GeoPointGAN_evaluation.ipynb",
      "provenance": [],
      "collapsed_sections": [],
      "toc_visible": true
    },
    "kernelspec": {
      "name": "python3",
      "display_name": "Python 3"
    },
    "accelerator": "GPU"
  },
  "cells": [
    {
      "cell_type": "markdown",
      "metadata": {
        "id": "Gm2vebW3Y5RL"
      },
      "source": [
        "# Differentially Private Point Patterns with GANs\n",
        "\n",
        "## Setup\n",
        "\n",
        "Install / load required dependencies"
      ]
    },
    {
      "cell_type": "code",
      "metadata": {
        "id": "pYDZP7iivcYG"
      },
      "source": [
        "from IPython.display import clear_output\n",
        "import torch\n",
        "import torchvision.transforms as transforms\n",
        "import torchvision\n",
        "import torch.nn as nn\n",
        "import torch.nn.functional as F\n",
        "from torch.autograd import Variable\n",
        "from torch import cuda, FloatTensor, LongTensor\n",
        "from torch.utils.data import Dataset, DataLoader\n",
        "\n",
        "import datetime\n",
        "import sys\n",
        "import requests\n",
        "import io\n",
        "import os\n",
        "import random\n",
        "from time import sleep\n",
        "\n",
        "import numpy as np\n",
        "import pandas as pd\n",
        "import math\n",
        "\n",
        "import matplotlib.pyplot as plt\n",
        "\n",
        "from sklearn.preprocessing import StandardScaler \n",
        "from sklearn.preprocessing import normalize\n",
        "from sklearn.neighbors import NearestNeighbors\n",
        "from sklearn import metrics"
      ],
      "execution_count": null,
      "outputs": []
    },
    {
      "cell_type": "markdown",
      "metadata": {
        "id": "VCzLcFFOBCBJ"
      },
      "source": [
        "Connect Google Drive to save models (only needed if models should be saved)"
      ]
    },
    {
      "cell_type": "code",
      "metadata": {
        "id": "udurrxxYBEpC",
        "colab": {
          "base_uri": "https://localhost:8080/"
        },
        "outputId": "4aaec1b5-c05c-4ff4-972a-a484207dcf80"
      },
      "source": [
        "from google.colab import drive\n",
        "drive.mount('/content/gdrive')"
      ],
      "execution_count": null,
      "outputs": [
        {
          "output_type": "stream",
          "text": [
            "Mounted at /content/gdrive\n"
          ],
          "name": "stdout"
        }
      ]
    },
    {
      "cell_type": "markdown",
      "metadata": {
        "id": "sX70apLeD0Z3"
      },
      "source": [
        "Use CUDA if GPU is available"
      ]
    },
    {
      "cell_type": "code",
      "metadata": {
        "id": "-UvFB0MVD5FM"
      },
      "source": [
        "# Use GPU\n",
        "DEVICE = torch.device(\"cuda:0\" if torch.cuda.is_available() else \"cpu\")"
      ],
      "execution_count": null,
      "outputs": []
    },
    {
      "cell_type": "markdown",
      "metadata": {
        "id": "rXeGWe9OAijb"
      },
      "source": [
        "### GeoPointGAN - Code Base"
      ]
    },
    {
      "cell_type": "code",
      "metadata": {
        "id": "xDIhhslZXdcy"
      },
      "source": [
        "###\n",
        "# Large Spatial Transformer Network (STN) module\n",
        "# \n",
        "# Input:\n",
        "#   k = number of point dimensions\n",
        "###\n",
        "class STNkd(nn.Module):\n",
        "    def __init__(self, k=2):\n",
        "        super(STNkd, self).__init__()\n",
        "        self.conv1 = torch.nn.Conv1d(k, 32, 1)\n",
        "        self.conv2 = torch.nn.Conv1d(32, 64, 1)\n",
        "        self.conv3 = torch.nn.Conv1d(64, 128, 1)\n",
        "        self.conv4 = torch.nn.Conv1d(128, 512, 1)\n",
        "        self.conv5 = torch.nn.Conv1d(512, 1024, 1)\n",
        "        self.fc1 = nn.Linear(1024, 512)\n",
        "        self.fc2 = nn.Linear(512, 256)\n",
        "        self.fc3 = nn.Linear(256, 128)\n",
        "        self.fc4 = nn.Linear(128, k*k)\n",
        "        self.relu = nn.ReLU()\n",
        "\n",
        "        self.bn1 = nn.BatchNorm1d(32)\n",
        "        self.bn2 = nn.BatchNorm1d(64)\n",
        "        self.bn3 = nn.BatchNorm1d(128)\n",
        "        self.bn4 = nn.BatchNorm1d(512)\n",
        "        self.bn5 = nn.BatchNorm1d(1024)\n",
        "        self.bn6 = nn.BatchNorm1d(512)\n",
        "        self.bn7 = nn.BatchNorm1d(256)\n",
        "        self.bn8 = nn.BatchNorm1d(128)\n",
        "\n",
        "        self.k = k\n",
        "\n",
        "    def forward(self, x):\n",
        "        batchsize = x.size()[0]\n",
        "        x = F.relu(self.bn1(self.conv1(x)))\n",
        "        x = F.relu(self.bn2(self.conv2(x)))\n",
        "        x = F.relu(self.bn3(self.conv3(x)))\n",
        "        x = F.relu(self.bn4(self.conv4(x)))\n",
        "        x = F.relu(self.bn5(self.conv5(x)))\n",
        "        x = torch.max(x, 2, keepdim=True)[0]\n",
        "        x = x.view(-1, 1024)\n",
        "\n",
        "        x = F.relu(self.bn6(self.fc1(x)))\n",
        "        x = F.relu(self.bn7(self.fc2(x)))\n",
        "        x = F.relu(self.bn8(self.fc3(x)))\n",
        "        x = self.fc4(x)\n",
        "\n",
        "        iden = Variable(torch.from_numpy(np.eye(self.k).flatten().astype(np.float32))).view(1,self.k*self.k).repeat(batchsize,1)\n",
        "        if x.is_cuda:\n",
        "            iden = iden.cuda()\n",
        "        x = x + iden\n",
        "        x = x.view(-1, self.k, self.k)\n",
        "\n",
        "        return x\n",
        "\n",
        "###\n",
        "# PointNet encoder\n",
        "#\n",
        "# Input:\n",
        "#   code_nfts = number of point embedding dimensions\n",
        "#   num_points = number of points \n",
        "#   n_dim = number of point dimensions\n",
        "#   global_feat = if True, return global feature embedding, if False, return individual (per-point) embeddings\n",
        "#   trans = if True, use TransformNet implementation, if False, use Vanilla PointNet\n",
        "###\n",
        "class PointNetfeat(nn.Module):\n",
        "    \"\"\"\n",
        "        PointNet Module\n",
        "    \"\"\"\n",
        "    def __init__(self, code_nfts=2048, num_points=2500, n_dim = 2, global_feat=True, trans=True):\n",
        "        super(PointNetfeat, self).__init__()\n",
        "        self.n_dim = n_dim\n",
        "        self.stn = STNkd(k = n_dim)\n",
        "        self.code_nfts = code_nfts\n",
        "        self.conv1 = torch.nn.Conv1d(n_dim, 64, 1)\n",
        "        self.conv2 = torch.nn.Conv1d(64, 128, 1)\n",
        "        self.conv3 = torch.nn.Conv1d(128, code_nfts, 1)\n",
        "\n",
        "        self.bn1 = torch.nn.BatchNorm1d(64)\n",
        "        self.bn2 = torch.nn.BatchNorm1d(128)\n",
        "        self.bn3 = torch.nn.BatchNorm1d(code_nfts)\n",
        "        self.trans = trans\n",
        "\n",
        "        self.num_points = num_points\n",
        "        self.global_feat = global_feat\n",
        "\n",
        "    def forward(self, x):\n",
        "        if self.trans:\n",
        "            trans = self.stn(x)\n",
        "            x = x.transpose(2,1)\n",
        "            x = torch.bmm(x, trans)\n",
        "            x = x.transpose(2,1)\n",
        "        x = F.relu(self.bn1(self.conv1(x)))\n",
        "        pointfeat = x\n",
        "        x = F.relu(self.bn2(self.conv2(x)))\n",
        "        x = self.bn3(self.conv3(x))\n",
        "        x,_ = torch.max(x, 2)\n",
        "        x = x.view(-1, self.code_nfts)\n",
        "        if self.trans:\n",
        "            if self.global_feat:\n",
        "                return x #, trans\n",
        "            else:\n",
        "                x = x.view(-1, self.code_nfts, 1).repeat(1, 1, self.num_points)\n",
        "                return torch.cat([x, pointfeat], 1), trans\n",
        "        else:\n",
        "            return x\n",
        "\n",
        "###\n",
        "# PointNet Generator\n",
        "#\n",
        "# Input:\n",
        "#   code_nfts = number of point embedding dimensions\n",
        "#   n_dim = number of point_dimensions\n",
        "#   global_feat = argument for PointNet: if True, return global feature embedding, if False, return individual (per-point) embeddings\n",
        "#   trans = argument for PointNet: if True, use TransformNet implementation, if False, use Vanilla PointNet\n",
        "###\n",
        "class PointNet_Generator(nn.Module):\n",
        "    \"\"\" \n",
        "        Generator with PointNet Encoder, MLP Decoder\n",
        "    \"\"\"\n",
        "    def __init__(self, code_nfts=2048, n_dim=2, global_feat=True, trans=True):\n",
        "        super(PointNet_Generator, self).__init__()\n",
        "        self.code_nfts = code_nfts\n",
        "        self.n_dim = n_dim\n",
        "        self.encoder = nn.Sequential(\n",
        "            PointNetfeat(code_nfts, 1, n_dim = n_dim, global_feat=global_feat, trans=trans),\n",
        "            nn.Linear(code_nfts, code_nfts),\n",
        "            nn.BatchNorm1d(code_nfts),\n",
        "            nn.ReLU()\n",
        "        )\n",
        "        self.decoder = nn.Sequential(\n",
        "            nn.Linear(code_nfts, code_nfts),\n",
        "            nn.BatchNorm1d(code_nfts),\n",
        "            nn.ReLU(),\n",
        "            nn.Linear(code_nfts, code_nfts // 2),\n",
        "            nn.BatchNorm1d(code_nfts // 2),\n",
        "            nn.ReLU(),\n",
        "            nn.Linear(code_nfts // 2, n_dim),\n",
        "            nn.Tanh()\n",
        "        )\n",
        "\n",
        "\n",
        "    def forward(self, x):\n",
        "        #Encoder\n",
        "        code = self.encoder(x)\n",
        "        #Decoder\n",
        "        x = self.decoder(code)\n",
        "        x = x.view(-1, self.n_dim, 1)\n",
        "        return x, code\n",
        "\n",
        "###\n",
        "# PointNet Discriminator\n",
        "#\n",
        "# Input:\n",
        "#   code_nfts = number of point embedding dimensions\n",
        "#   n_dim = number of point dimensions\n",
        "#   global_feat = argument for PointNet: if True, return global feature embedding, if False, return individual (per-point) embeddings\n",
        "#   trans = argument for PointNet: if True, use TransformNet implementation, if False, use Vanilla PointNet\n",
        "###\n",
        "class PointNet_Discriminator(nn.Module):\n",
        "    \"\"\" \n",
        "        PointNet Discriminator\n",
        "    \"\"\"\n",
        "    def __init__(self, code_nfts=2048, n_dim = 2, global_feat=True, trans = False):\n",
        "        super(PointNet_Discriminator, self).__init__()\n",
        "        self.n_dim = n_dim\n",
        "        self.code_nfts = code_nfts\n",
        "        self.cls = nn.Sequential(\n",
        "            PointNetfeat(code_nfts, 1, n_dim = n_dim, global_feat=global_feat, trans=trans),\n",
        "            nn.Linear(code_nfts, code_nfts),\n",
        "            nn.BatchNorm1d(code_nfts),\n",
        "            nn.ReLU(),\n",
        "            nn.Linear(code_nfts, 1),\n",
        "            nn.Sigmoid()\n",
        "        )\n",
        "\n",
        "    def forward(self, x):\n",
        "        #Point level classifier\n",
        "        x = self.cls(x)\n",
        "        return x"
      ],
      "execution_count": null,
      "outputs": []
    },
    {
      "cell_type": "markdown",
      "metadata": {
        "id": "dbqPX8r-2I6E"
      },
      "source": [
        "Utilities"
      ]
    },
    {
      "cell_type": "code",
      "metadata": {
        "id": "FyrdUO-l2Kav"
      },
      "source": [
        "#Plotting\n",
        "def get_sample_points(G, z, n_dim):\n",
        "    \"\"\"\n",
        "      Generate 'size' data samples\n",
        "      ___\n",
        "\n",
        "      G = Generator (in G.eval() mode)\n",
        "      z = Random noise tensor of shape (n, n_dim, 1)\n",
        "    \"\"\"\n",
        "    z_gen,_ = G(z)\n",
        "    z_gen = z_gen.permute(2,0,1)\n",
        "    n = z_gen.shape[1]\n",
        "    batch_size = z_gen.shape[0]\n",
        "    y_hat = z_gen.reshape(n * batch_size, n_dim) \n",
        "    points = y_hat.cpu().data.numpy()\n",
        "    return points\n",
        "\n",
        "def norm(x):\n",
        "  for i in range(x.shape[1]):\n",
        "    x[:,i] = 2 * (x[:,i]-min(x[:,i]))/(max(x[:,i])-min(x[:,i])) - 1\n",
        "  return x\n",
        "\n",
        "def rand_point(x, num_points, draw_with_replacement=False):\n",
        "  total_num_points = x.shape[0]\n",
        "  n_dim = x.shape[1]\n",
        "  if draw_with_replacement:\n",
        "    idx = np.random.randint(low=0,high=total_num_points, size=num_points) # Draw with replacement\n",
        "  else:\n",
        "    idx = np.random.choice(total_num_points, num_points) # Draw without replacement\n",
        "  sample = x[idx]\n",
        "  return sample"
      ],
      "execution_count": null,
      "outputs": []
    },
    {
      "cell_type": "markdown",
      "metadata": {
        "id": "evnULS4mlW7d"
      },
      "source": [
        "## Download Data"
      ]
    },
    {
      "cell_type": "code",
      "metadata": {
        "id": "Ks3UDOWElYeO"
      },
      "source": [
        "url=\"https://raw.githubusercontent.com/konstantinklemmer/konstantinklemmer.github.io/master/data/data_teddy/porto-test.csv\"\r\n",
        "s=requests.get(url).content\r\n",
        "c=pd.read_csv(io.StringIO(s.decode('utf-8')))\r\n",
        "c.columns = [\"x\",\"y\"]\r\n",
        "c[\"x\"] = 2 * (c[\"x\"]-min(c[\"x\"]))/(max(c[\"x\"])-min(c[\"x\"])) - 1\r\n",
        "c[\"y\"] = 2 * (c[\"y\"]-min(c[\"y\"]))/(max(c[\"y\"])-min(c[\"y\"])) - 1\r\n",
        "po = c\r\n",
        "\r\n",
        "url=\"https://raw.githubusercontent.com/konstantinklemmer/konstantinklemmer.github.io/master/data/data_teddy/nyc-test.csv\"\r\n",
        "s=requests.get(url).content\r\n",
        "c=pd.read_csv(io.StringIO(s.decode('utf-8')))\r\n",
        "c.columns = [\"x\",\"y\"]\r\n",
        "c[\"x\"] = 2 * (c[\"x\"]-min(c[\"x\"]))/(max(c[\"x\"])-min(c[\"x\"])) - 1\r\n",
        "c[\"y\"] = 2 * (c[\"y\"]-min(c[\"y\"]))/(max(c[\"y\"])-min(c[\"y\"])) - 1\r\n",
        "ny = c\r\n",
        "\r\n",
        "url=\"https://raw.githubusercontent.com/konstantinklemmer/konstantinklemmer.github.io/master/data/data_teddy/beijing-test.csv\"\r\n",
        "s=requests.get(url).content\r\n",
        "c=pd.read_csv(io.StringIO(s.decode('utf-8')))\r\n",
        "c.columns = [\"x\",\"y\"]\r\n",
        "c[\"x\"] = 2 * (c[\"x\"]-min(c[\"x\"]))/(max(c[\"x\"])-min(c[\"x\"])) - 1\r\n",
        "c[\"y\"] = 2 * (c[\"y\"]-min(c[\"y\"]))/(max(c[\"y\"])-min(c[\"y\"])) - 1\r\n",
        "be = c\r\n",
        "\r\n",
        "url=\"https://archive.ics.uci.edu/ml/machine-learning-databases/00246/3D_spatial_network.txt\"\r\n",
        "s=requests.get(url).content\r\n",
        "c=pd.read_csv(io.StringIO(s.decode('utf-8')))\r\n",
        "c.columns = [\"id\",\"x\",\"y\",\"z\"]\r\n",
        "c[\"x\"] = 2 * (c[\"x\"]-min(c[\"x\"]))/(max(c[\"x\"])-min(c[\"x\"])) - 1\r\n",
        "c[\"y\"] = 2 * (c[\"y\"]-min(c[\"y\"]))/(max(c[\"y\"])-min(c[\"y\"])) - 1\r\n",
        "c[\"z\"] = 2 * (c[\"z\"]-min(c[\"z\"]))/(max(c[\"z\"])-min(c[\"z\"])) - 1\r\n",
        "road = c[[\"x\",\"y\",\"z\"]]"
      ],
      "execution_count": null,
      "outputs": []
    },
    {
      "cell_type": "markdown",
      "metadata": {
        "id": "yTAJRx7ueNwF"
      },
      "source": [
        "## Generate Data \r\n",
        "\r\n",
        "Get real and fake point samples."
      ]
    },
    {
      "cell_type": "code",
      "metadata": {
        "id": "_SxMowsM1Wzl",
        "colab": {
          "base_uri": "https://localhost:8080/",
          "height": 246
        },
        "outputId": "bf04eb88-97f9-4290-cadd-40154c9aad8f"
      },
      "source": [
        "dataset = \"3d_road\"\n",
        "eps = -1\n",
        "\n",
        "if dataset == \"new_york\":\n",
        "  real = np.array(ny)\n",
        "elif dataset == \"porto\":\n",
        "  real = np.array(po)\n",
        "elif dataset == \"beijing\":\n",
        "  real = np.array(be)\n",
        "elif dataset == \"3d_road\":\n",
        "  real = np.array(road)\n",
        "\n",
        "n_dim = real.shape[1]\n",
        "num_points = 7500 #Number of points to generate!\n",
        "n_draws = 10\n",
        "z_test = torch.randn(num_points, n_dim, 1).to(DEVICE) \n",
        "G = torch.load('gdrive/My Drive/PNGAN/model/G_%s_eps%i.pkl.gz' % (dataset, eps) ) #Link to your generator!\n",
        "\n",
        "d = torch.zeros([n_draws,num_points,n_dim])\n",
        "for i in range(n_draws):\n",
        "  with torch.no_grad():\n",
        "    G.eval()\n",
        "    z_test = torch.randn(num_points, n_dim, 1).to(DEVICE) \n",
        "    fake = get_sample_points(G, z_test, n_dim)\n",
        "    d[i,:,:] = torch.tensor(norm(fake))\n",
        "\n",
        "fake = d.reshape(num_points*n_draws, n_dim)\n",
        "real = rand_point(real, num_points*n_draws)"
      ],
      "execution_count": null,
      "outputs": [
        {
          "output_type": "error",
          "ename": "KeyboardInterrupt",
          "evalue": "ignored",
          "traceback": [
            "\u001b[0;31m---------------------------------------------------------------------------\u001b[0m",
            "\u001b[0;31mKeyboardInterrupt\u001b[0m                         Traceback (most recent call last)",
            "\u001b[0;32m<ipython-input-7-98b88d2f1128>\u001b[0m in \u001b[0;36m<module>\u001b[0;34m()\u001b[0m\n\u001b[1;32m     14\u001b[0m \u001b[0mnum_points\u001b[0m \u001b[0;34m=\u001b[0m \u001b[0;36m7500\u001b[0m \u001b[0;31m#Number of points to generate!\u001b[0m\u001b[0;34m\u001b[0m\u001b[0;34m\u001b[0m\u001b[0m\n\u001b[1;32m     15\u001b[0m \u001b[0mn_draws\u001b[0m \u001b[0;34m=\u001b[0m \u001b[0;36m10\u001b[0m\u001b[0;34m\u001b[0m\u001b[0;34m\u001b[0m\u001b[0m\n\u001b[0;32m---> 16\u001b[0;31m \u001b[0mz_test\u001b[0m \u001b[0;34m=\u001b[0m \u001b[0mtorch\u001b[0m\u001b[0;34m.\u001b[0m\u001b[0mrandn\u001b[0m\u001b[0;34m(\u001b[0m\u001b[0mnum_points\u001b[0m\u001b[0;34m,\u001b[0m \u001b[0mn_dim\u001b[0m\u001b[0;34m,\u001b[0m \u001b[0;36m1\u001b[0m\u001b[0;34m)\u001b[0m\u001b[0;34m.\u001b[0m\u001b[0mto\u001b[0m\u001b[0;34m(\u001b[0m\u001b[0mDEVICE\u001b[0m\u001b[0;34m)\u001b[0m\u001b[0;34m\u001b[0m\u001b[0;34m\u001b[0m\u001b[0m\n\u001b[0m\u001b[1;32m     17\u001b[0m \u001b[0mG\u001b[0m \u001b[0;34m=\u001b[0m \u001b[0mtorch\u001b[0m\u001b[0;34m.\u001b[0m\u001b[0mload\u001b[0m\u001b[0;34m(\u001b[0m\u001b[0;34m'gdrive/My Drive/PNGAN/model/G_%s_eps%i.pkl.gz'\u001b[0m \u001b[0;34m%\u001b[0m \u001b[0;34m(\u001b[0m\u001b[0mdataset\u001b[0m\u001b[0;34m,\u001b[0m \u001b[0meps\u001b[0m\u001b[0;34m)\u001b[0m \u001b[0;34m)\u001b[0m \u001b[0;31m#Link to your generator!\u001b[0m\u001b[0;34m\u001b[0m\u001b[0;34m\u001b[0m\u001b[0m\n\u001b[1;32m     18\u001b[0m \u001b[0;34m\u001b[0m\u001b[0m\n",
            "\u001b[0;31mKeyboardInterrupt\u001b[0m: "
          ]
        }
      ]
    },
    {
      "cell_type": "markdown",
      "metadata": {
        "id": "e4Sr7dPq2BGr"
      },
      "source": [
        "Plot points"
      ]
    },
    {
      "cell_type": "code",
      "metadata": {
        "id": "U9kC_KO36M3o",
        "colab": {
          "base_uri": "https://localhost:8080/",
          "height": 191
        },
        "outputId": "73d26933-651b-478a-c963-cad8d98a0685"
      },
      "source": [
        "#Real points\r\n",
        "plt.scatter(real[:,0],real[:,1],s=0.01,alpha=0.5)"
      ],
      "execution_count": null,
      "outputs": [
        {
          "output_type": "error",
          "ename": "NameError",
          "evalue": "ignored",
          "traceback": [
            "\u001b[0;31m---------------------------------------------------------------------------\u001b[0m",
            "\u001b[0;31mNameError\u001b[0m                                 Traceback (most recent call last)",
            "\u001b[0;32m<ipython-input-7-36ec72a358f5>\u001b[0m in \u001b[0;36m<module>\u001b[0;34m()\u001b[0m\n\u001b[1;32m      1\u001b[0m \u001b[0;31m#Real points\u001b[0m\u001b[0;34m\u001b[0m\u001b[0;34m\u001b[0m\u001b[0;34m\u001b[0m\u001b[0m\n\u001b[0;32m----> 2\u001b[0;31m \u001b[0mplt\u001b[0m\u001b[0;34m.\u001b[0m\u001b[0mscatter\u001b[0m\u001b[0;34m(\u001b[0m\u001b[0mreal\u001b[0m\u001b[0;34m[\u001b[0m\u001b[0;34m:\u001b[0m\u001b[0;34m,\u001b[0m\u001b[0;36m0\u001b[0m\u001b[0;34m]\u001b[0m\u001b[0;34m,\u001b[0m\u001b[0mreal\u001b[0m\u001b[0;34m[\u001b[0m\u001b[0;34m:\u001b[0m\u001b[0;34m,\u001b[0m\u001b[0;36m1\u001b[0m\u001b[0;34m]\u001b[0m\u001b[0;34m,\u001b[0m\u001b[0ms\u001b[0m\u001b[0;34m=\u001b[0m\u001b[0;36m0.01\u001b[0m\u001b[0;34m,\u001b[0m\u001b[0malpha\u001b[0m\u001b[0;34m=\u001b[0m\u001b[0;36m0.5\u001b[0m\u001b[0;34m)\u001b[0m\u001b[0;34m\u001b[0m\u001b[0;34m\u001b[0m\u001b[0m\n\u001b[0m",
            "\u001b[0;31mNameError\u001b[0m: name 'real' is not defined"
          ]
        }
      ]
    },
    {
      "cell_type": "code",
      "metadata": {
        "colab": {
          "base_uri": "https://localhost:8080/",
          "height": 191
        },
        "id": "ptJDvea6o90s",
        "outputId": "fe5cd562-5b18-4239-805f-43d365c1e018"
      },
      "source": [
        "#Fake points\r\n",
        "plt.scatter(fake[:,0],fake[:,1],s=0.01,alpha=0.5)"
      ],
      "execution_count": null,
      "outputs": [
        {
          "output_type": "error",
          "ename": "NameError",
          "evalue": "ignored",
          "traceback": [
            "\u001b[0;31m---------------------------------------------------------------------------\u001b[0m",
            "\u001b[0;31mNameError\u001b[0m                                 Traceback (most recent call last)",
            "\u001b[0;32m<ipython-input-8-420f58b9cfa5>\u001b[0m in \u001b[0;36m<module>\u001b[0;34m()\u001b[0m\n\u001b[1;32m      1\u001b[0m \u001b[0;31m#Fake points\u001b[0m\u001b[0;34m\u001b[0m\u001b[0;34m\u001b[0m\u001b[0;34m\u001b[0m\u001b[0m\n\u001b[0;32m----> 2\u001b[0;31m \u001b[0mplt\u001b[0m\u001b[0;34m.\u001b[0m\u001b[0mscatter\u001b[0m\u001b[0;34m(\u001b[0m\u001b[0mfake\u001b[0m\u001b[0;34m[\u001b[0m\u001b[0;34m:\u001b[0m\u001b[0;34m,\u001b[0m\u001b[0;36m0\u001b[0m\u001b[0;34m]\u001b[0m\u001b[0;34m,\u001b[0m\u001b[0mfake\u001b[0m\u001b[0;34m[\u001b[0m\u001b[0;34m:\u001b[0m\u001b[0;34m,\u001b[0m\u001b[0;36m1\u001b[0m\u001b[0;34m]\u001b[0m\u001b[0;34m,\u001b[0m\u001b[0ms\u001b[0m\u001b[0;34m=\u001b[0m\u001b[0;36m0.01\u001b[0m\u001b[0;34m,\u001b[0m\u001b[0malpha\u001b[0m\u001b[0;34m=\u001b[0m\u001b[0;36m0.5\u001b[0m\u001b[0;34m)\u001b[0m\u001b[0;34m\u001b[0m\u001b[0;34m\u001b[0m\u001b[0m\n\u001b[0m",
            "\u001b[0;31mNameError\u001b[0m: name 'fake' is not defined"
          ]
        }
      ]
    },
    {
      "cell_type": "code",
      "metadata": {
        "id": "sIsPeuLCOZ6d"
      },
      "source": [
        "from scipy.spatial.distance import cdist\r\n",
        "from scipy.optimize import linear_sum_assignment\r\n",
        "\r\n",
        "def emd(X, Y):\r\n",
        "    d = cdist(X, Y)\r\n",
        "    assignment = linear_sum_assignment(d)\r\n",
        "    return d[assignment].sum() / min(len(X), len(Y))"
      ],
      "execution_count": null,
      "outputs": []
    },
    {
      "cell_type": "code",
      "metadata": {
        "id": "plMXRh_3OcKn"
      },
      "source": [
        "emd_score = emd(real, fake)"
      ],
      "execution_count": null,
      "outputs": []
    },
    {
      "cell_type": "code",
      "metadata": {
        "id": "K3pEUzGBcKQz"
      },
      "source": [
        "emd_score"
      ],
      "execution_count": null,
      "outputs": []
    },
    {
      "cell_type": "markdown",
      "metadata": {
        "id": "TC6ubscJ2ygj"
      },
      "source": [
        "## Compute point cloud metrics"
      ]
    },
    {
      "cell_type": "code",
      "metadata": {
        "colab": {
          "base_uri": "https://localhost:8080/"
        },
        "id": "tHvLxoOw3fk5",
        "outputId": "b70120e6-f2f2-4f56-9793-0bee79d8c736"
      },
      "source": [
        "!pip install chamferdist"
      ],
      "execution_count": null,
      "outputs": [
        {
          "output_type": "stream",
          "text": [
            "Collecting chamferdist\n",
            "  Downloading https://files.pythonhosted.org/packages/aa/26/9c897de7c284470542dd97a4335251f23b9a8083d88cded2bb8c8d744595/chamferdist-1.0.0.tar.gz\n",
            "Building wheels for collected packages: chamferdist\n",
            "  Building wheel for chamferdist (setup.py) ... \u001b[?25l\u001b[?25hdone\n",
            "  Created wheel for chamferdist: filename=chamferdist-1.0.0-cp36-cp36m-linux_x86_64.whl size=4128828 sha256=37dbf2b5f6ab1a95527b7f52f8eca2809a216e09481810011acec1191e0be9fc\n",
            "  Stored in directory: /root/.cache/pip/wheels/39/8b/71/6eb6de869c9e2b673d2afb970d5a35377f32c3f95cd726a8e3\n",
            "Successfully built chamferdist\n",
            "Installing collected packages: chamferdist\n",
            "Successfully installed chamferdist-1.0.0\n"
          ],
          "name": "stdout"
        }
      ]
    },
    {
      "cell_type": "code",
      "metadata": {
        "id": "rTpTd6ap3qUe"
      },
      "source": [
        "from chamferdist import ChamferDistance\r\n",
        "\r\n",
        "min_var_est = 1e-8\r\n",
        "\r\n",
        "\r\n",
        "# Consider linear time MMD with a linear kernel:\r\n",
        "# K(f(x), f(y)) = f(x)^Tf(y)\r\n",
        "# h(z_i, z_j) = k(x_i, x_j) + k(y_i, y_j) - k(x_i, y_j) - k(x_j, y_i)\r\n",
        "#             = [f(x_i) - f(y_i)]^T[f(x_j) - f(y_j)]\r\n",
        "#\r\n",
        "# f_of_X: batch_size * k\r\n",
        "# f_of_Y: batch_size * k\r\n",
        "def linear_mmd2(f_of_X, f_of_Y):\r\n",
        "    loss = 0.0\r\n",
        "    delta = f_of_X - f_of_Y\r\n",
        "    loss = torch.mean((delta[:-1] * delta[1:]).sum(1))\r\n",
        "    return loss\r\n",
        "\r\n",
        "\r\n",
        "# Consider linear time MMD with a polynomial kernel:\r\n",
        "# K(f(x), f(y)) = (alpha*f(x)^Tf(y) + c)^d\r\n",
        "# f_of_X: batch_size * k\r\n",
        "# f_of_Y: batch_size * k\r\n",
        "def poly_mmd2(f_of_X, f_of_Y, d=2, alpha=1.0, c=2.0):\r\n",
        "    K_XX = (alpha * (f_of_X[:-1] * f_of_X[1:]).sum(1) + c)\r\n",
        "    K_XX_mean = torch.mean(K_XX.pow(d))\r\n",
        "\r\n",
        "    K_YY = (alpha * (f_of_Y[:-1] * f_of_Y[1:]).sum(1) + c)\r\n",
        "    K_YY_mean = torch.mean(K_YY.pow(d))\r\n",
        "\r\n",
        "    K_XY = (alpha * (f_of_X[:-1] * f_of_Y[1:]).sum(1) + c)\r\n",
        "    K_XY_mean = torch.mean(K_XY.pow(d))\r\n",
        "\r\n",
        "    K_YX = (alpha * (f_of_Y[:-1] * f_of_X[1:]).sum(1) + c)\r\n",
        "    K_YX_mean = torch.mean(K_YX.pow(d))\r\n",
        "\r\n",
        "    return K_XX_mean + K_YY_mean - K_XY_mean - K_YX_mean\r\n",
        "\r\n",
        "\r\n",
        "def _mix_rbf_kernel(X, Y, sigma_list):\r\n",
        "    assert(X.size(0) == Y.size(0))\r\n",
        "    m = X.size(0)\r\n",
        "\r\n",
        "    Z = torch.cat((X, Y), 0)\r\n",
        "    ZZT = torch.mm(Z, Z.t())\r\n",
        "    diag_ZZT = torch.diag(ZZT).unsqueeze(1)\r\n",
        "    Z_norm_sqr = diag_ZZT.expand_as(ZZT)\r\n",
        "    exponent = Z_norm_sqr - 2 * ZZT + Z_norm_sqr.t()\r\n",
        "\r\n",
        "    K = 0.0\r\n",
        "    for sigma in sigma_list:\r\n",
        "        gamma = 1.0 / (2 * sigma**2)\r\n",
        "        K += torch.exp(-gamma * exponent)\r\n",
        "\r\n",
        "    return K[:m, :m], K[:m, m:], K[m:, m:], len(sigma_list)\r\n",
        "\r\n",
        "\r\n",
        "def mix_rbf_mmd2(X, Y, sigma_list, biased=True):\r\n",
        "    K_XX, K_XY, K_YY, d = _mix_rbf_kernel(X, Y, sigma_list)\r\n",
        "    # return _mmd2(K_XX, K_XY, K_YY, const_diagonal=d, biased=biased)\r\n",
        "    return _mmd2(K_XX, K_XY, K_YY, const_diagonal=False, biased=biased)\r\n",
        "\r\n",
        "\r\n",
        "def mix_rbf_mmd2_and_ratio(X, Y, sigma_list, biased=True):\r\n",
        "    K_XX, K_XY, K_YY, d = _mix_rbf_kernel(X, Y, sigma_list)\r\n",
        "    # return _mmd2_and_ratio(K_XX, K_XY, K_YY, const_diagonal=d, biased=biased)\r\n",
        "    return _mmd2_and_ratio(K_XX, K_XY, K_YY, const_diagonal=False, biased=biased)\r\n",
        "\r\n",
        "\r\n",
        "################################################################################\r\n",
        "# Helper functions to compute variances based on kernel matrices\r\n",
        "################################################################################\r\n",
        "\r\n",
        "\r\n",
        "def _mmd2(K_XX, K_XY, K_YY, const_diagonal=False, biased=False):\r\n",
        "    m = K_XX.size(0)    # assume X, Y are same shape\r\n",
        "\r\n",
        "    # Get the various sums of kernels that we'll use\r\n",
        "    # Kts drop the diagonal, but we don't need to compute them explicitly\r\n",
        "    if const_diagonal is not False:\r\n",
        "        diag_X = diag_Y = const_diagonal\r\n",
        "        sum_diag_X = sum_diag_Y = m * const_diagonal\r\n",
        "    else:\r\n",
        "        diag_X = torch.diag(K_XX)                       # (m,)\r\n",
        "        diag_Y = torch.diag(K_YY)                       # (m,)\r\n",
        "        sum_diag_X = torch.sum(diag_X)\r\n",
        "        sum_diag_Y = torch.sum(diag_Y)\r\n",
        "\r\n",
        "    Kt_XX_sums = K_XX.sum(dim=1) - diag_X             # \\tilde{K}_XX * e = K_XX * e - diag_X\r\n",
        "    Kt_YY_sums = K_YY.sum(dim=1) - diag_Y             # \\tilde{K}_YY * e = K_YY * e - diag_Y\r\n",
        "    K_XY_sums_0 = K_XY.sum(dim=0)                     # K_{XY}^T * e\r\n",
        "\r\n",
        "    Kt_XX_sum = Kt_XX_sums.sum()                       # e^T * \\tilde{K}_XX * e\r\n",
        "    Kt_YY_sum = Kt_YY_sums.sum()                       # e^T * \\tilde{K}_YY * e\r\n",
        "    K_XY_sum = K_XY_sums_0.sum()                       # e^T * K_{XY} * e\r\n",
        "\r\n",
        "    if biased:\r\n",
        "        mmd2 = ((Kt_XX_sum + sum_diag_X) / (m * m)\r\n",
        "            + (Kt_YY_sum + sum_diag_Y) / (m * m)\r\n",
        "            - 2.0 * K_XY_sum / (m * m))\r\n",
        "    else:\r\n",
        "        mmd2 = (Kt_XX_sum / (m * (m - 1))\r\n",
        "            + Kt_YY_sum / (m * (m - 1))\r\n",
        "            - 2.0 * K_XY_sum / (m * m))\r\n",
        "\r\n",
        "    return mmd2\r\n",
        "\r\n",
        "\r\n",
        "def _mmd2_and_ratio(K_XX, K_XY, K_YY, const_diagonal=False, biased=False):\r\n",
        "    mmd2, var_est = _mmd2_and_variance(K_XX, K_XY, K_YY, const_diagonal=const_diagonal, biased=biased)\r\n",
        "    loss = mmd2 / torch.sqrt(torch.clamp(var_est, min=min_var_est))\r\n",
        "    return loss, mmd2, var_est\r\n",
        "\r\n",
        "\r\n",
        "def _mmd2_and_variance(K_XX, K_XY, K_YY, const_diagonal=False, biased=False):\r\n",
        "    m = K_XX.size(0)    # assume X, Y are same shape\r\n",
        "\r\n",
        "    # Get the various sums of kernels that we'll use\r\n",
        "    # Kts drop the diagonal, but we don't need to compute them explicitly\r\n",
        "    if const_diagonal is not False:\r\n",
        "        diag_X = diag_Y = const_diagonal\r\n",
        "        sum_diag_X = sum_diag_Y = m * const_diagonal\r\n",
        "        sum_diag2_X = sum_diag2_Y = m * const_diagonal**2\r\n",
        "    else:\r\n",
        "        diag_X = torch.diag(K_XX)                       # (m,)\r\n",
        "        diag_Y = torch.diag(K_YY)                       # (m,)\r\n",
        "        sum_diag_X = torch.sum(diag_X)\r\n",
        "        sum_diag_Y = torch.sum(diag_Y)\r\n",
        "        sum_diag2_X = diag_X.dot(diag_X)\r\n",
        "        sum_diag2_Y = diag_Y.dot(diag_Y)\r\n",
        "\r\n",
        "    Kt_XX_sums = K_XX.sum(dim=1) - diag_X             # \\tilde{K}_XX * e = K_XX * e - diag_X\r\n",
        "    Kt_YY_sums = K_YY.sum(dim=1) - diag_Y             # \\tilde{K}_YY * e = K_YY * e - diag_Y\r\n",
        "    K_XY_sums_0 = K_XY.sum(dim=0)                     # K_{XY}^T * e\r\n",
        "    K_XY_sums_1 = K_XY.sum(dim=1)                     # K_{XY} * e\r\n",
        "\r\n",
        "    Kt_XX_sum = Kt_XX_sums.sum()                       # e^T * \\tilde{K}_XX * e\r\n",
        "    Kt_YY_sum = Kt_YY_sums.sum()                       # e^T * \\tilde{K}_YY * e\r\n",
        "    K_XY_sum = K_XY_sums_0.sum()                       # e^T * K_{XY} * e\r\n",
        "\r\n",
        "    Kt_XX_2_sum = (K_XX ** 2).sum() - sum_diag2_X      # \\| \\tilde{K}_XX \\|_F^2\r\n",
        "    Kt_YY_2_sum = (K_YY ** 2).sum() - sum_diag2_Y      # \\| \\tilde{K}_YY \\|_F^2\r\n",
        "    K_XY_2_sum  = (K_XY ** 2).sum()                    # \\| K_{XY} \\|_F^2\r\n",
        "\r\n",
        "    if biased:\r\n",
        "        mmd2 = ((Kt_XX_sum + sum_diag_X) / (m * m)\r\n",
        "            + (Kt_YY_sum + sum_diag_Y) / (m * m)\r\n",
        "            - 2.0 * K_XY_sum / (m * m))\r\n",
        "    else:\r\n",
        "        mmd2 = (Kt_XX_sum / (m * (m - 1))\r\n",
        "            + Kt_YY_sum / (m * (m - 1))\r\n",
        "            - 2.0 * K_XY_sum / (m * m))\r\n",
        "\r\n",
        "    var_est = (\r\n",
        "        2.0 / (m**2 * (m - 1.0)**2) * (2 * Kt_XX_sums.dot(Kt_XX_sums) - Kt_XX_2_sum + 2 * Kt_YY_sums.dot(Kt_YY_sums) - Kt_YY_2_sum)\r\n",
        "        - (4.0*m - 6.0) / (m**3 * (m - 1.0)**3) * (Kt_XX_sum**2 + Kt_YY_sum**2)\r\n",
        "        + 4.0*(m - 2.0) / (m**3 * (m - 1.0)**2) * (K_XY_sums_1.dot(K_XY_sums_1) + K_XY_sums_0.dot(K_XY_sums_0))\r\n",
        "        - 4.0*(m - 3.0) / (m**3 * (m - 1.0)**2) * (K_XY_2_sum) - (8 * m - 12) / (m**5 * (m - 1)) * K_XY_sum**2\r\n",
        "        + 8.0 / (m**3 * (m - 1.0)) * (\r\n",
        "            1.0 / m * (Kt_XX_sum + Kt_YY_sum) * K_XY_sum\r\n",
        "            - Kt_XX_sums.dot(K_XY_sums_1)\r\n",
        "            - Kt_YY_sums.dot(K_XY_sums_0))\r\n",
        "        )\r\n",
        "    return mmd2, var_est"
      ],
      "execution_count": null,
      "outputs": []
    },
    {
      "cell_type": "code",
      "metadata": {
        "colab": {
          "base_uri": "https://localhost:8080/"
        },
        "id": "nGjEeCYZ2x2h",
        "outputId": "bece8a07-aab6-4630-a3ef-aec485b99cf6"
      },
      "source": [
        "##\r\n",
        "datasets = [\"new_york\", \"porto\", \"beijing\",\"3d_road\"]\r\n",
        "epsilons = [\"0\",\"1\",\"2\",\"-1\"]\r\n",
        "num_points = 7500 #Number of points to generate at each draw\r\n",
        "n_draws = 1 #Number of draws from generator\r\n",
        "perms = 60\r\n",
        "get_mmd = False\r\n",
        "get_cd = True\r\n",
        "get_emd = False\r\n",
        "plotting = True\r\n",
        "##\r\n",
        "\r\n",
        "base = 1.0 #MMD settings\r\n",
        "sigma_list = [1, 2, 4, 8, 16]\r\n",
        "sigma_list = [sigma / base for sigma in sigma_list]\r\n",
        "chamferDist = ChamferDistance() #Define CD\r\n",
        "\r\n",
        "with torch.no_grad():\r\n",
        "  if plotting==True:\r\n",
        "    fig, ((ax1,ax2,ax3,ax4)) = plt.subplots(1, 4, figsize=(7, 3))\r\n",
        "  for dataset in datasets:\r\n",
        "    cd_means = []\r\n",
        "    mmd_means = []\r\n",
        "    emd_means = []\r\n",
        "    cd_sds = []\r\n",
        "    mmd_sds = []\r\n",
        "    emd_sds = []\r\n",
        "\r\n",
        "    for eps in epsilons:\r\n",
        "      cds = []\r\n",
        "      mmds = []\r\n",
        "      emds = []\r\n",
        "      if dataset == \"new_york\":\r\n",
        "        data = np.array(ny)\r\n",
        "      elif dataset == \"porto\":\r\n",
        "        data = np.array(po)\r\n",
        "      elif dataset == \"beijing\":\r\n",
        "        data = np.array(be)\r\n",
        "      elif dataset == \"3d_road\":\r\n",
        "        data = np.array(road)\r\n",
        "\r\n",
        "      #z_test = torch.randn(num_points, n_dim, 1).to(DEVICE) \r\n",
        "      n_dim = data.shape[1]\r\n",
        "      G = torch.load('gdrive/My Drive/PNGAN/model/G_%s_eps%s.pkl.gz' % (dataset, eps)) #Link to your generator!\r\n",
        "      G.eval()\r\n",
        "\r\n",
        "      for j in range(perms):\r\n",
        "        d = torch.zeros([n_draws,num_points,n_dim])\r\n",
        "        for i in range(n_draws):\r\n",
        "          z_test = torch.randn(num_points, n_dim, 1).to(DEVICE) \r\n",
        "          fake = get_sample_points(G, z_test, n_dim)\r\n",
        "          d[i,:,:] = torch.as_tensor(norm(fake))\r\n",
        "\r\n",
        "        fake = torch.as_tensor(d.reshape(num_points*n_draws, n_dim))\r\n",
        "        real = torch.as_tensor(rand_point(data, num_points*n_draws))\r\n",
        "\r\n",
        "        if get_cd==True:\r\n",
        "          cd = chamferDist(real.reshape(1, num_points*n_draws, n_dim).float(), fake.reshape(1, num_points*n_draws, n_dim).float(), bidirectional=True)\r\n",
        "          cds.append(cd)\r\n",
        "        if get_mmd==True:      \r\n",
        "          mmd = mix_rbf_mmd2(real.float(), fake.float(), sigma_list=sigma_list)\r\n",
        "          mmds.append(mmd)\r\n",
        "        if get_emd==True:\r\n",
        "          em = emd(real, fake)\r\n",
        "          emds.append(em)\r\n",
        "      \r\n",
        "      if get_cd==True:\r\n",
        "        cd_mean = torch.tensor(cds).mean()\r\n",
        "        cd_sd = torch.tensor(cds).std()\r\n",
        "      else:\r\n",
        "        cd_mean = -1\r\n",
        "        cd_sd = -1\r\n",
        "\r\n",
        "      if get_mmd==True:\r\n",
        "        mmd_mean = torch.tensor(mmds).mean()\r\n",
        "        mmd_sd = torch.tensor(mmds).std()\r\n",
        "      else:\r\n",
        "        mmd_mean = -1\r\n",
        "        mmd_sd = -1\r\n",
        "\r\n",
        "      if get_emd==True:\r\n",
        "        emd_mean = torch.tensor(emds).mean()\r\n",
        "        emd_sd = torch.tensor(emds).std()\r\n",
        "      else:\r\n",
        "        emd_mean = -1\r\n",
        "        emd_sd = -1\r\n",
        "\r\n",
        "      print('Dataset: %s - Epsilon: %s - Chamfer Dist: %.6f - MMD: %.6f - EMD: %.6f' % (dataset, eps, cd_mean, mmd_mean, emd_mean))\r\n",
        "\r\n",
        "      if get_cd==True:\r\n",
        "        cd_means.append(cd_mean)\r\n",
        "        cd_sds.append(cd_sd)\r\n",
        "      if get_mmd==True:\r\n",
        "        mmd_means.append(mmd_mean)\r\n",
        "        mmd_sds.append(mmd_sd)\r\n",
        "      if get_emd==True:\r\n",
        "        emd_means.append(emd_mean)\r\n",
        "        emd_sds.append(emd_sd)\r\n",
        "    \r\n",
        "    if plotting==True:\r\n",
        "      if dataset==\"new_york\":\r\n",
        "        # construct some data like what you have:\r\n",
        "        means = cd_means\r\n",
        "        std = cd_sds\r\n",
        "        # create stacked errorbars:\r\n",
        "        ax1.errorbar([\"0.5\",\"1\",\"2\",\"Inf\"], means, std, fmt='o', lw=3, capsize=6)\r\n",
        "        ax1.set_xlabel(r'$\\epsilon$')\r\n",
        "        ax1.set_title(\"CD - New York\")\r\n",
        "      elif dataset==\"porto\":\r\n",
        "        # construct some data like what you have:\r\n",
        "        means = cd_means\r\n",
        "        std = cd_sds\r\n",
        "        # create stacked errorbars:\r\n",
        "        ax2.errorbar([\"0.5\",\"1\",\"2\",\"Inf\"], means, std, fmt='o', lw=3, capsize=6)\r\n",
        "        ax2.set_xlabel(r'$\\epsilon$')\r\n",
        "        ax2.set_title(\"CD - Porto\")\r\n",
        "      elif dataset==\"beijing\":\r\n",
        "        # construct some data like what you have:\r\n",
        "        means = cd_means\r\n",
        "        std = cd_sds\r\n",
        "        # create stacked errorbars:\r\n",
        "        ax3.errorbar([\"0.5\",\"1\",\"2\",\"Inf\"], means, std, fmt='o', lw=3, capsize=6)\r\n",
        "        ax3.set_xlabel(r'$\\epsilon$')\r\n",
        "        ax3.set_title(\"CD - Beijing\")\r\n",
        "      elif dataset==\"3d_road\":\r\n",
        "        # construct some data like what you have:\r\n",
        "        means = cd_means\r\n",
        "        std = cd_sds\r\n",
        "        # create stacked errorbars:\r\n",
        "        #plt.errorbar(np.arange(4), means, std, fmt='ok', lw=3)\r\n",
        "        ax4.errorbar([\"0.5\",\"1\",\"2\",\"Inf\"], means, std, fmt='o', lw=3, capsize=6)\r\n",
        "        ax4.set_xlabel(r'$\\epsilon$')\r\n",
        "        ax4.set_title(\"CD - 3d Road\")"
      ],
      "execution_count": null,
      "outputs": [
        {
          "output_type": "stream",
          "text": [
            "Dataset: new_york - Epsilon: 0 - Chamfer Dist: 3.598459 - MMD: -1.000000 - EMD: -1.000000\n",
            "Dataset: new_york - Epsilon: 1 - Chamfer Dist: 1.279490 - MMD: -1.000000 - EMD: -1.000000\n",
            "Dataset: new_york - Epsilon: 2 - Chamfer Dist: 1.314133 - MMD: -1.000000 - EMD: -1.000000\n",
            "Dataset: new_york - Epsilon: -1 - Chamfer Dist: 1.281086 - MMD: -1.000000 - EMD: -1.000000\n",
            "Dataset: porto - Epsilon: 0 - Chamfer Dist: 4.098497 - MMD: -1.000000 - EMD: -1.000000\n",
            "Dataset: porto - Epsilon: 1 - Chamfer Dist: 3.095453 - MMD: -1.000000 - EMD: -1.000000\n",
            "Dataset: porto - Epsilon: 2 - Chamfer Dist: 2.888405 - MMD: -1.000000 - EMD: -1.000000\n",
            "Dataset: porto - Epsilon: -1 - Chamfer Dist: 2.485343 - MMD: -1.000000 - EMD: -1.000000\n",
            "Dataset: beijing - Epsilon: 0 - Chamfer Dist: 4.260358 - MMD: -1.000000 - EMD: -1.000000\n",
            "Dataset: beijing - Epsilon: 1 - Chamfer Dist: 3.548424 - MMD: -1.000000 - EMD: -1.000000\n",
            "Dataset: beijing - Epsilon: 2 - Chamfer Dist: 2.527658 - MMD: -1.000000 - EMD: -1.000000\n",
            "Dataset: beijing - Epsilon: -1 - Chamfer Dist: 2.344772 - MMD: -1.000000 - EMD: -1.000000\n",
            "Dataset: 3d_road - Epsilon: 0 - Chamfer Dist: 31.707964 - MMD: -1.000000 - EMD: -1.000000\n",
            "Dataset: 3d_road - Epsilon: 1 - Chamfer Dist: 35.031857 - MMD: -1.000000 - EMD: -1.000000\n",
            "Dataset: 3d_road - Epsilon: 2 - Chamfer Dist: 31.823277 - MMD: -1.000000 - EMD: -1.000000\n",
            "Dataset: 3d_road - Epsilon: -1 - Chamfer Dist: 30.893551 - MMD: -1.000000 - EMD: -1.000000\n"
          ],
          "name": "stdout"
        },
        {
          "output_type": "display_data",
          "data": {
            "image/png": "[encoded data removed]",
            "text/plain": [
              "<Figure size 504x216 with 4 Axes>"
            ]
          },
          "metadata": {
            "tags": [],
            "needs_background": "light"
          }
        }
      ]
    },
    {
      "cell_type": "code",
      "metadata": {
        "id": "qTiyK7XFlZuu"
      },
      "source": [
        "fig.tight_layout()\r\n",
        "fig.savefig(\"test.png\", bbox_inches = 'tight')"
      ],
      "execution_count": null,
      "outputs": []
    },
    {
      "cell_type": "markdown",
      "metadata": {
        "id": "VVvQZLN6IGGo"
      },
      "source": [
        "Print the results"
      ]
    },
    {
      "cell_type": "code",
      "metadata": {
        "colab": {
          "base_uri": "https://localhost:8080/",
          "height": 259
        },
        "id": "91rO7Qr44gBR",
        "outputId": "5ca8f806-4099-49bf-87dc-795416271151"
      },
      "source": [
        "import matplotlib.pyplot as plt\r\n",
        "import numpy as np\r\n",
        "\r\n",
        "# construct some data like what you have:\r\n",
        "means = cd_means\r\n",
        "std = cd_sds\r\n",
        "\r\n",
        "# create stacked errorbars:\r\n",
        "#plt.errorbar(np.arange(4), means, std, fmt='ok', lw=3)\r\n",
        "fig, ax = plt.subplots(figsize=(2, 3))\r\n",
        "ax.errorbar([\"0.5\",\"1\",\"2\",\"Inf\"], means, std, fmt='o', lw=3, capsize=6)\r\n",
        "ax.set_xlabel(r'$\\epsilon$')\r\n",
        "ax.set_title(\"CD - 3d Road\")\r\n",
        "#plt.xlim(-1, 8)"
      ],
      "execution_count": null,
      "outputs": [
        {
          "output_type": "execute_result",
          "data": {
            "text/plain": [
              "Text(0.5, 1.0, 'CD - 3d Road')"
            ]
          },
          "metadata": {
            "tags": []
          },
          "execution_count": 24
        },
        {
          "output_type": "display_data",
          "data": {
            "image/png": "[encoded data removed]",
            "text/plain": [
              "<Figure size 144x216 with 1 Axes>"
            ]
          },
          "metadata": {
            "tags": [],
            "needs_background": "light"
          }
        }
      ]
    },
    {
      "cell_type": "code",
      "metadata": {
        "id": "irUjXopqHih3"
      },
      "source": [
        "fig.savefig(\"cd_3d_road.png\", bbox_inches = 'tight')"
      ],
      "execution_count": null,
      "outputs": []
    },
    {
      "cell_type": "code",
      "metadata": {
        "id": "nsM2PdSbIKAc"
      },
      "source": [
        "import matplotlib.image as mpimg\r\n",
        "\r\n",
        "img_ny = mpimg.imread(\"cd_new_york.png\")\r\n",
        "img_po= mpimg.imread(\"cd_porto.png\")\r\n",
        "img_be= mpimg.imread(\"cd_beijing.png\")\r\n",
        "img_3d= mpimg.imread(\"cd_3d_road.png\")"
      ],
      "execution_count": null,
      "outputs": []
    },
    {
      "cell_type": "code",
      "metadata": {
        "id": "Gwbx4NtbRLix",
        "colab": {
          "base_uri": "https://localhost:8080/",
          "height": 233
        },
        "outputId": "c55dae66-c778-41da-bc2d-3b248c4f27e9"
      },
      "source": [
        "fig, ((ax1,ax2,ax3,ax4)) = plt.subplots(1, 4, figsize=(15, 3))\r\n",
        "ax1.imshow(img_ny)\r\n",
        "ax2.imshow(img_po)\r\n",
        "ax3.imshow(img_be)\r\n",
        "ax4.imshow(img_3d)"
      ],
      "execution_count": null,
      "outputs": [
        {
          "output_type": "execute_result",
          "data": {
            "text/plain": [
              "<matplotlib.image.AxesImage at 0x7fe2b7699b00>"
            ]
          },
          "metadata": {
            "tags": []
          },
          "execution_count": 28
        },
        {
          "output_type": "display_data",
          "data": {
            "image/png": "[encoded data removed]",
            "text/plain": [
              "<Figure size 1080x216 with 4 Axes>"
            ]
          },
          "metadata": {
            "tags": [],
            "needs_background": "light"
          }
        }
      ]
    },
    {
      "cell_type": "code",
      "metadata": {
        "id": "yBQP2O41iq5P"
      },
      "source": [
        ""
      ],
      "execution_count": null,
      "outputs": []
    }
  ]
}